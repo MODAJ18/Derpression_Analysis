{
 "cells": [
  {
   "cell_type": "code",
   "execution_count": 39,
   "id": "6181b476",
   "metadata": {},
   "outputs": [],
   "source": [
    "import pandas as pd\n",
    "import numpy as np\n",
    "from sklearn.model_selection import train_test_split\n",
    "\n",
    "from sklearn.naive_bayes import MultinomialNB\n",
    "from sklearn.naive_bayes import GaussianNB\n",
    "from sklearn.ensemble import RandomForestClassifier\n",
    "from sklearn.linear_model import SGDClassifier\n",
    "from sklearn.tree import DecisionTreeClassifier\n",
    "from sklearn.neighbors import KNeighborsClassifier\n",
    "from sklearn.linear_model import LogisticRegression\n",
    "\n",
    "from sklearn.metrics import roc_auc_score\n",
    "from sklearn.metrics import classification_report\n",
    "from sklearn.metrics import accuracy_score\n",
    "from sklearn.metrics import confusion_matrix\n",
    "import matplotlib.pyplot as plt\n",
    "import seaborn as sns\n",
    "\n",
    "from sklearn.model_selection import GridSearchCV"
   ]
  },
  {
   "cell_type": "code",
   "execution_count": 5,
   "id": "77d95640",
   "metadata": {},
   "outputs": [],
   "source": [
    "tfidf_df = pd.read_csv('../Data/processed/tfidf_tweets.csv')\n",
    "BOW_df = pd.read_csv('../Data/processed/BOW_tweets.csv')"
   ]
  },
  {
   "cell_type": "code",
   "execution_count": 23,
   "id": "3b772055",
   "metadata": {},
   "outputs": [],
   "source": [
    "# Model definitions\n",
    "MultinomialNB_model = MultinomialNB(alpha=0.1, class_prior=None, fit_prior=True)\n",
    "LogReg_model = LogisticRegression()\n",
    "SGDClassifier_model = SGDClassifier(class_weight='balanced', penalty='l1')\n",
    "\n",
    "models = [MultinomialNB_model, LogReg_model, SGDClassifier_model]\n",
    "model_names = ['MultinomialNB', 'LogisticRegression', 'SGDClassifier']"
   ]
  },
  {
   "cell_type": "code",
   "execution_count": 9,
   "id": "ae660c05",
   "metadata": {},
   "outputs": [
    {
     "data": {
      "text/plain": [
       "array([0, 1], dtype=int64)"
      ]
     },
     "metadata": {},
     "output_type": "display_data"
    },
    {
     "data": {
      "text/plain": [
       "0    8000\n",
       "1    2314\n",
       "Name: label_d, dtype: int64"
      ]
     },
     "metadata": {},
     "output_type": "display_data"
    }
   ],
   "source": [
    "# y-feature distribution\n",
    "display(BOW_df['label_d'].unique())\n",
    "display(BOW_df['label_d'].value_counts())"
   ]
  },
  {
   "cell_type": "markdown",
   "id": "8b6352c5",
   "metadata": {},
   "source": [
    "## Bag-of-Word Features"
   ]
  },
  {
   "cell_type": "code",
   "execution_count": 11,
   "id": "b255ab6e",
   "metadata": {},
   "outputs": [],
   "source": [
    "X, y = BOW_df.drop(columns=['label_d']), BOW_df['label_d']"
   ]
  },
  {
   "cell_type": "code",
   "execution_count": 24,
   "id": "98313162",
   "metadata": {},
   "outputs": [],
   "source": [
    "X_train, X_test, y_train, y_test = train_test_split(X, y, test_size=0.2, random_state=110 , stratify=y)"
   ]
  },
  {
   "cell_type": "code",
   "execution_count": 25,
   "id": "f979f482",
   "metadata": {},
   "outputs": [],
   "source": [
    "def train_models(X_tr, X_te, y_tr, y_te):\n",
    "    for i, model in enumerate(models):\n",
    "        print(f\"Model: {model_names[i]}\")\n",
    "        model.fit(X_tr, y_tr)\n",
    "        y_pred = model.predict(X_te)\n",
    "        print('accuracy %s' % accuracy_score(y_te, y_pred))\n",
    "        print()"
   ]
  },
  {
   "cell_type": "code",
   "execution_count": 26,
   "id": "7f709193",
   "metadata": {},
   "outputs": [
    {
     "name": "stdout",
     "output_type": "stream",
     "text": [
      "Model: MultinomialNB\n",
      "accuracy 0.864760058167717\n",
      "\n",
      "Model: LogisticRegression\n",
      "accuracy 0.8759088705768299\n",
      "\n",
      "Model: SGDClassifier\n",
      "accuracy 0.8308288899660689\n",
      "\n"
     ]
    }
   ],
   "source": [
    "train_models(X_train, X_test, y_train, y_test)"
   ]
  },
  {
   "cell_type": "markdown",
   "id": "0727ec00",
   "metadata": {},
   "source": [
    "## TF-IDF Features"
   ]
  },
  {
   "cell_type": "code",
   "execution_count": 27,
   "id": "d6d41443",
   "metadata": {},
   "outputs": [],
   "source": [
    "X, y = tfidf_df.drop(columns=['label_d']), tfidf_df['label_d']"
   ]
  },
  {
   "cell_type": "code",
   "execution_count": 28,
   "id": "368cd8eb",
   "metadata": {},
   "outputs": [],
   "source": [
    "X_train, X_test, y_train, y_test = train_test_split(X, y, test_size=0.2, random_state=110 , stratify=y)"
   ]
  },
  {
   "cell_type": "code",
   "execution_count": 29,
   "id": "dce38148",
   "metadata": {},
   "outputs": [],
   "source": [
    "def train_models(X_tr, X_te, y_tr, y_te):\n",
    "    for i, model in enumerate(models):\n",
    "        print(f\"Model: {model_names[i]}\")\n",
    "        model.fit(X_tr, y_tr)\n",
    "        y_pred = model.predict(X_te)\n",
    "        print('accuracy %s' % accuracy_score(y_te, y_pred))\n",
    "        print()"
   ]
  },
  {
   "cell_type": "code",
   "execution_count": 30,
   "id": "ed081427",
   "metadata": {},
   "outputs": [
    {
     "name": "stdout",
     "output_type": "stream",
     "text": [
      "Model: MultinomialNB\n",
      "accuracy 0.881725642268541\n",
      "\n",
      "Model: LogisticRegression\n",
      "accuracy 0.851672321861367\n",
      "\n",
      "Model: SGDClassifier\n",
      "accuracy 0.8439166262724188\n",
      "\n"
     ]
    }
   ],
   "source": [
    "train_models(X_train, X_test, y_train, y_test)"
   ]
  },
  {
   "cell_type": "markdown",
   "id": "99027c60",
   "metadata": {},
   "source": [
    "## Evaluation "
   ]
  },
  {
   "cell_type": "markdown",
   "id": "97af2ad4",
   "metadata": {},
   "source": [
    "Using MultinomialNB model trained on TF-IDF data"
   ]
  },
  {
   "cell_type": "code",
   "execution_count": 32,
   "id": "b06ba7f4",
   "metadata": {},
   "outputs": [],
   "source": [
    "X, y = tfidf_df.drop(columns=['label_d']), tfidf_df['label_d']\n",
    "X_train, X_test, y_train, y_test = train_test_split(X, y, test_size=0.2, random_state=110 , stratify=y)\n",
    "\n",
    "MultinomialNB_model.fit(X_train, y_train)\n",
    "y_pred = MultinomialNB_model.predict(X_test)"
   ]
  },
  {
   "cell_type": "code",
   "execution_count": 33,
   "id": "39ff5829",
   "metadata": {},
   "outputs": [
    {
     "name": "stdout",
     "output_type": "stream",
     "text": [
      "              precision    recall  f1-score   support\n",
      "\n",
      "           0       0.89      0.96      0.93      1600\n",
      "           1       0.83      0.59      0.69       463\n",
      "\n",
      "    accuracy                           0.88      2063\n",
      "   macro avg       0.86      0.78      0.81      2063\n",
      "weighted avg       0.88      0.88      0.87      2063\n",
      "\n"
     ]
    }
   ],
   "source": [
    "print(classification_report(y_test, y_pred))"
   ]
  },
  {
   "cell_type": "code",
   "execution_count": 46,
   "id": "ce6e2285",
   "metadata": {},
   "outputs": [
    {
     "data": {
      "image/png": "[encoded data removed]",
      "text/plain": [
       "<Figure size 640x480 with 2 Axes>"
      ]
     },
     "metadata": {},
     "output_type": "display_data"
    },
    {
     "data": {
      "image/png": "[encoded data removed]",
      "text/plain": [
       "<Figure size 640x480 with 2 Axes>"
      ]
     },
     "metadata": {},
     "output_type": "display_data"
    }
   ],
   "source": [
    "cf_matrix = confusion_matrix(y_test, y_pred)\n",
    "\n",
    "# fig 1\n",
    "sns.heatmap(cf_matrix/np.sum(cf_matrix), annot=True, \n",
    "            fmt='.2%', cmap='Blues')\n",
    "plt.show()\n",
    "\n",
    "# fig 2\n",
    "labels = [\"True Neg\", \"False Pos\", \"False Neg\", \"True Pos\"]\n",
    "labels = np.asarray(labels).reshape(2,2)\n",
    "sns.heatmap(cf_matrix, annot=labels, fmt=\"\", cmap='Blues')\n",
    "plt.show()"
   ]
  },
  {
   "cell_type": "markdown",
   "id": "0da415bf",
   "metadata": {},
   "source": [
    "**NOTE**: Large Percentage of False negatives within the predictions."
   ]
  }
 ],
 "metadata": {
  "kernelspec": {
   "display_name": "DataEngineeringKER",
   "language": "python",
   "name": "dataengineeringker"
  },
  "language_info": {
   "codemirror_mode": {
    "name": "ipython",
    "version": 3
   },
   "file_extension": ".py",
   "mimetype": "text/x-python",
   "name": "python",
   "nbconvert_exporter": "python",
   "pygments_lexer": "ipython3",
   "version": "3.8.12"
  }
 },
 "nbformat": 4,
 "nbformat_minor": 5
}
